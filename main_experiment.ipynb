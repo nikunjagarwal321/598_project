{
 "cells": [
  {
   "cell_type": "code",
   "id": "4e3a0b45a356fc18",
   "metadata": {
    "ExecuteTime": {
     "end_time": "2025-04-27T23:18:38.876294Z",
     "start_time": "2025-04-27T23:18:38.869908Z"
    }
   },
   "source": [
    "# from retrievers.bm25_retriever import BM25Retriever\n",
    "# from retrievers.colbert_retriever import ColBERTRetriever\n",
    "# from retrievers.dense_retriever import DPRRetriever\n",
    "#\n",
    "# documents = [\"The sky is blue.\", \"The sun is bright.\", \"The grass is green.\"]\n",
    "#\n",
    "# # Initialize the Retriever with the documents\n",
    "# dense_retriever = DPRRetriever(documents)"
   ],
   "outputs": [],
   "execution_count": 3
  },
  {
   "metadata": {
    "ExecuteTime": {
     "end_time": "2025-04-27T23:33:37.466085Z",
     "start_time": "2025-04-27T23:33:37.431487Z"
    }
   },
   "cell_type": "code",
   "source": [
    "import numpy as np\n",
    "from sentence_transformers import SentenceTransformer\n",
    "\n",
    "class ColBERTRetriever:\n",
    "    def __init__(self, documents):\n",
    "        # Load ColBERT Model (Sentence Transformers)\n",
    "        self.model = SentenceTransformer('bert-base-nli-mean-tokens')\n",
    "\n",
    "        # Encode documents into embeddings (token-level interactions)\n",
    "        self.documents = documents\n",
    "        self.document_embeddings = self.encode_documents(documents)\n",
    "\n",
    "    def encode_documents(self, documents):\n",
    "        # Token-level embeddings via Sentence-BERT\n",
    "        embeddings = self.model.encode(documents)\n",
    "        return np.array(embeddings)\n",
    "\n",
    "    def retrieve(self, query, top_k=5):\n",
    "        # Encode the query using ColBERT embedding model\n",
    "        query_embedding = self.model.encode([query])\n",
    "\n",
    "        # Compute cosine similarities\n",
    "        similarities = np.dot(self.document_embeddings, query_embedding.T)\n",
    "\n",
    "        # Sort documents by similarity score\n",
    "        ranked_indexes = similarities.argsort()[-top_k:][::-1]\n",
    "\n",
    "        # Return top-k results\n",
    "        return [self.documents[i] for i in ranked_indexes]"
   ],
   "id": "3a548d4c5c0c35d0",
   "outputs": [],
   "execution_count": 34
  },
  {
   "metadata": {
    "ExecuteTime": {
     "end_time": "2025-04-27T23:33:40.946695Z",
     "start_time": "2025-04-27T23:33:39.133425Z"
    }
   },
   "cell_type": "code",
   "source": [
    "documents = [\"The sky is blue.\", \"The sky is pink\", \"The sun is bright.\", \"The grass is green.\"]\n",
    "\n",
    "# Initialize the Retriever with the documents\n",
    "dense_retriever = ColBERTRetriever(documents)\n",
    "\n",
    "query = \"What is the color of the sky?\"\n",
    "\n",
    "# Retrieve the top 2 most relevant documents based on the query\n",
    "top_k = 2\n",
    "retrieved_docs = dense_retriever.retrieve(query, top_k=top_k)\n",
    "\n",
    "# Output the retrieved documents\"\n",
    "print(\"Top-k retrieved documents (BM25):\", retrieved_docs)"
   ],
   "id": "a583a68580938af",
   "outputs": [
    {
     "name": "stderr",
     "output_type": "stream",
     "text": [
      "Some weights of the model checkpoint at facebook/dpr-question_encoder-single-nq-base were not used when initializing DPRQuestionEncoder: ['question_encoder.bert_model.pooler.dense.bias', 'question_encoder.bert_model.pooler.dense.weight']\n",
      "- This IS expected if you are initializing DPRQuestionEncoder from the checkpoint of a model trained on another task or with another architecture (e.g. initializing a BertForSequenceClassification model from a BertForPreTraining model).\n",
      "- This IS NOT expected if you are initializing DPRQuestionEncoder from the checkpoint of a model that you expect to be exactly identical (initializing a BertForSequenceClassification model from a BertForSequenceClassification model).\n",
      "Some weights of the model checkpoint at facebook/dpr-ctx_encoder-single-nq-base were not used when initializing DPRContextEncoder: ['ctx_encoder.bert_model.pooler.dense.bias', 'ctx_encoder.bert_model.pooler.dense.weight']\n",
      "- This IS expected if you are initializing DPRContextEncoder from the checkpoint of a model trained on another task or with another architecture (e.g. initializing a BertForSequenceClassification model from a BertForPreTraining model).\n",
      "- This IS NOT expected if you are initializing DPRContextEncoder from the checkpoint of a model that you expect to be exactly identical (initializing a BertForSequenceClassification model from a BertForSequenceClassification model).\n",
      "The tokenizer class you load from this checkpoint is not the same type as the class this function is called from. It may result in unexpected tokenization. \n",
      "The tokenizer class you load from this checkpoint is 'DPRQuestionEncoderTokenizer'. \n",
      "The class this function is called from is 'DPRContextEncoderTokenizer'.\n",
      "Asking to truncate to max_length but no maximum length is provided and the model has no predefined maximum length. Default to no truncation.\n",
      "Asking to truncate to max_length but no maximum length is provided and the model has no predefined maximum length. Default to no truncation.\n"
     ]
    },
    {
     "name": "stdout",
     "output_type": "stream",
     "text": [
      "Top-k retrieved documents (BM25): ['The sky is blue.', 'The sky is pink']\n"
     ]
    }
   ],
   "execution_count": 35
  },
  {
   "metadata": {},
   "cell_type": "code",
   "outputs": [],
   "execution_count": null,
   "source": "",
   "id": "de39985b2e30f833"
  }
 ],
 "metadata": {
  "kernelspec": {
   "display_name": "Python 3",
   "language": "python",
   "name": "python3"
  },
  "language_info": {
   "codemirror_mode": {
    "name": "ipython",
    "version": 2
   },
   "file_extension": ".py",
   "mimetype": "text/x-python",
   "name": "python",
   "nbconvert_exporter": "python",
   "pygments_lexer": "ipython2",
   "version": "2.7.6"
  }
 },
 "nbformat": 4,
 "nbformat_minor": 5
}
