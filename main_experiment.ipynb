{
 "cells": [
  {
   "cell_type": "code",
   "execution_count": 3,
   "id": "3a548d4c5c0c35d0",
   "metadata": {
    "ExecuteTime": {
     "end_time": "2025-04-28T00:16:42.197109Z",
     "start_time": "2025-04-28T00:16:37.510365Z"
    }
   },
   "outputs": [
    {
     "name": "stderr",
     "output_type": "stream",
     "text": [
      "Some weights of the model checkpoint at facebook/dpr-question_encoder-single-nq-base were not used when initializing DPRQuestionEncoder: ['question_encoder.bert_model.pooler.dense.bias', 'question_encoder.bert_model.pooler.dense.weight']\n",
      "- This IS expected if you are initializing DPRQuestionEncoder from the checkpoint of a model trained on another task or with another architecture (e.g. initializing a BertForSequenceClassification model from a BertForPreTraining model).\n",
      "- This IS NOT expected if you are initializing DPRQuestionEncoder from the checkpoint of a model that you expect to be exactly identical (initializing a BertForSequenceClassification model from a BertForSequenceClassification model).\n",
      "Some weights of the model checkpoint at facebook/dpr-ctx_encoder-single-nq-base were not used when initializing DPRContextEncoder: ['ctx_encoder.bert_model.pooler.dense.bias', 'ctx_encoder.bert_model.pooler.dense.weight']\n",
      "- This IS expected if you are initializing DPRContextEncoder from the checkpoint of a model trained on another task or with another architecture (e.g. initializing a BertForSequenceClassification model from a BertForPreTraining model).\n",
      "- This IS NOT expected if you are initializing DPRContextEncoder from the checkpoint of a model that you expect to be exactly identical (initializing a BertForSequenceClassification model from a BertForSequenceClassification model).\n",
      "The tokenizer class you load from this checkpoint is not the same type as the class this function is called from. It may result in unexpected tokenization. \n",
      "The tokenizer class you load from this checkpoint is 'DPRQuestionEncoderTokenizer'. \n",
      "The class this function is called from is 'DPRContextEncoderTokenizer'.\n",
      "Asking to truncate to max_length but no maximum length is provided and the model has no predefined maximum length. Default to no truncation.\n",
      "Some weights of the model checkpoint at facebook/dpr-question_encoder-single-nq-base were not used when initializing DPRQuestionEncoder: ['question_encoder.bert_model.pooler.dense.bias', 'question_encoder.bert_model.pooler.dense.weight']\n",
      "- This IS expected if you are initializing DPRQuestionEncoder from the checkpoint of a model trained on another task or with another architecture (e.g. initializing a BertForSequenceClassification model from a BertForPreTraining model).\n",
      "- This IS NOT expected if you are initializing DPRQuestionEncoder from the checkpoint of a model that you expect to be exactly identical (initializing a BertForSequenceClassification model from a BertForSequenceClassification model).\n",
      "Some weights of the model checkpoint at facebook/dpr-ctx_encoder-single-nq-base were not used when initializing DPRContextEncoder: ['ctx_encoder.bert_model.pooler.dense.bias', 'ctx_encoder.bert_model.pooler.dense.weight']\n",
      "- This IS expected if you are initializing DPRContextEncoder from the checkpoint of a model trained on another task or with another architecture (e.g. initializing a BertForSequenceClassification model from a BertForPreTraining model).\n",
      "- This IS NOT expected if you are initializing DPRContextEncoder from the checkpoint of a model that you expect to be exactly identical (initializing a BertForSequenceClassification model from a BertForSequenceClassification model).\n",
      "The tokenizer class you load from this checkpoint is not the same type as the class this function is called from. It may result in unexpected tokenization. \n",
      "The tokenizer class you load from this checkpoint is 'DPRQuestionEncoderTokenizer'. \n",
      "The class this function is called from is 'DPRContextEncoderTokenizer'.\n",
      "Asking to truncate to max_length but no maximum length is provided and the model has no predefined maximum length. Default to no truncation.\n"
     ]
    }
   ],
   "source": [
    "from retrievers.bm25_retriever import BM25Retriever\n",
    "from retrievers.colbert_retriever import ColBERTRetriever\n",
    "from retrievers.dense_retriever import DPRRetriever\n",
    "from retrievers.hybrid_retriever import HybridRetriever\n",
    "\n",
    "documents = [\"The sky is blue.\", \"The sky is pink\", \"The sun is bright.\", \"The grass is green.\"]\n",
    "\n",
    "# Initialize the Retrievers with the documents\n",
    "bm25_retriever = BM25Retriever(documents)\n",
    "dense_retriever = DPRRetriever(documents)\n",
    "colbert_retriever = ColBERTRetriever(documents)\n",
    "hybrid_retriever = HybridRetriever(documents)\n"
   ]
  },
  {
   "cell_type": "code",
   "execution_count": 4,
   "id": "a583a68580938af",
   "metadata": {
    "ExecuteTime": {
     "end_time": "2025-04-28T00:16:44.395789Z",
     "start_time": "2025-04-28T00:16:43.530148Z"
    }
   },
   "outputs": [
    {
     "name": "stderr",
     "output_type": "stream",
     "text": [
      "Asking to truncate to max_length but no maximum length is provided and the model has no predefined maximum length. Default to no truncation.\n",
      "Asking to truncate to max_length but no maximum length is provided and the model has no predefined maximum length. Default to no truncation.\n"
     ]
    },
    {
     "name": "stdout",
     "output_type": "stream",
     "text": [
      "Top-k retrieved documents (BM25): ['The sky is pink', 'The sky is blue.']\n",
      "Top-k retrieved documents (DPR): ['The sky is blue.', 'The sky is pink']\n",
      "Top-k retrieved documents (ColBERT): ['The sky is blue.', 'The sky is pink']\n",
      "Top-k retrieved documents (Hybrid): ['The sky is blue.', 'The sky is pink']\n"
     ]
    }
   ],
   "source": [
    "# Initialize the Retriever with the documents\n",
    "query = \"What is the color of the sky?\"\n",
    "\n",
    "# Retrieve the top 2 most relevant documents based on the query\n",
    "top_k = 2\n",
    "bm25_retrieved_docs = bm25_retriever.retrieve(query, top_k=top_k)\n",
    "dpr_retrieved_docs = dense_retriever.retrieve(query, top_k=top_k)\n",
    "colbert_retrieved_docs = colbert_retriever.retrieve(query, top_k=top_k)\n",
    "hybrid_retrieved_docs = hybrid_retriever.retrieve(query, top_k=top_k)\n",
    "\n",
    "# Output the retrieved documents\"\n",
    "print(\"Top-k retrieved documents (BM25):\", bm25_retrieved_docs)\n",
    "print(\"Top-k retrieved documents (DPR):\", dpr_retrieved_docs)\n",
    "print(\"Top-k retrieved documents (ColBERT):\", colbert_retrieved_docs)\n",
    "print(\"Top-k retrieved documents (Hybrid):\", hybrid_retrieved_docs)"
   ]
  },
  {
   "cell_type": "code",
   "execution_count": null,
   "id": "5ce3bb24",
   "metadata": {},
   "outputs": [],
   "source": [
    "# Apply rerankers to the retrieved documents\n",
    "from rerankers.cross_encoder_reranker import CrossEncoderReranker\n",
    "from rerankers.embedding_reranker import EmbeddingReranker\n",
    "from rerankers.none_reranker import NoReranker\n",
    "\n",
    "cross_encoder_reranker = CrossEncoderReranker()\n",
    "embedding_reranker = EmbeddingReranker()\n",
    "no_reranker = NoReranker()\n",
    "\n",
    "print(\"\\n--- Applying Rerankers ---\")\n",
    "\n",
    "# Apply rerankers to BM25 results\n",
    "print(\"\\nBM25 Results:\")\n",
    "print(\"  + No Reranker:\", no_reranker.rerank(query, bm25_retrieved_docs))\n",
    "print(\"  + Embedding Reranker:\", embedding_reranker.rerank(query, bm25_retrieved_docs))\n",
    "print(\"  + Cross-Encoder Reranker:\", cross_encoder_reranker.rerank(query, bm25_retrieved_docs))\n",
    "\n",
    "# Apply rerankers to DPR results\n",
    "print(\"\\nDPR Results:\")\n",
    "print(\"  + No Reranker:\", no_reranker.rerank(query, dpr_retrieved_docs))\n",
    "print(\"  + Embedding Reranker:\", embedding_reranker.rerank(query, dpr_retrieved_docs))\n",
    "print(\"  + Cross-Encoder Reranker:\", cross_encoder_reranker.rerank(query, dpr_retrieved_docs))\n",
    "\n",
    "# Apply rerankers to ColBERT results\n",
    "print(\"\\nColBERT Results:\")\n",
    "print(\"  + No Reranker:\", no_reranker.rerank(query, colbert_retrieved_docs))\n",
    "print(\"  + Embedding Reranker:\", embedding_reranker.rerank(query, colbert_retrieved_docs))\n",
    "print(\"  + Cross-Encoder Reranker:\", cross_encoder_reranker.rerank(query, colbert_retrieved_docs))\n",
    "\n",
    "# Apply rerankers to Hybrid results\n",
    "print(\"\\nHybrid Results:\")\n",
    "print(\"  + No Reranker:\", no_reranker.rerank(query, hybrid_retrieved_docs))\n",
    "print(\"  + Embedding Reranker:\", embedding_reranker.rerank(query, hybrid_retrieved_docs))\n",
    "print(\"  + Cross-Encoder Reranker:\", cross_encoder_reranker.rerank(query, hybrid_retrieved_docs))"
   ]
  },
  {
   "cell_type": "code",
   "execution_count": null,
   "id": "de39985b2e30f833",
   "metadata": {},
   "outputs": [],
   "source": []
  }
 ],
 "metadata": {
  "kernelspec": {
   "display_name": "Python 3",
   "language": "python",
   "name": "python3"
  },
  "language_info": {
   "codemirror_mode": {
    "name": "ipython",
    "version": 2
   },
   "file_extension": ".py",
   "mimetype": "text/x-python",
   "name": "python",
   "nbconvert_exporter": "python",
   "pygments_lexer": "ipython2",
   "version": "2.7.6"
  }
 },
 "nbformat": 4,
 "nbformat_minor": 5
}
