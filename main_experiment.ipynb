{
 "cells": [
  {
   "cell_type": "code",
   "id": "3a548d4c5c0c35d0",
   "metadata": {
    "ExecuteTime": {
     "end_time": "2025-04-27T19:59:34.920049Z",
     "start_time": "2025-04-27T19:59:34.913562Z"
    }
   },
   "source": [
    "from retrievers.bm25_retriever import BM25Retriever\n",
    "from chunkers.fixed_chunker import FixedChunker\n",
    "from rerankers.none_reranker import NoReranker\n",
    "\n",
    "\n",
    "corpus = [\"Sample document one.\", \"this is about RAG.\", \"RAG has a boy system\"]\n",
    "query = \"What is RAG?\"\n",
    "\n",
    "chunker = FixedChunker(chunk_size=10)\n",
    "retriever = BM25Retriever(corpus)\n",
    "reranker = NoReranker()\n",
    "retrieved_docs = retriever.retrieve(query, top_k=1)\n",
    "reranked_docs = reranker.rerank(query, retrieved_docs)\n",
    "\n",
    "print(\"Retrieved and Reranked Docs:\")\n",
    "for doc in reranked_docs:\n",
    "    print(\"-\", doc)"
   ],
   "outputs": [
    {
     "name": "stdout",
     "output_type": "stream",
     "text": [
      "Retrieved and Reranked Docs:\n",
      "- this is about RAG.\n"
     ]
    }
   ],
   "execution_count": 9
  },
  {
   "metadata": {
    "ExecuteTime": {
     "end_time": "2025-04-27T19:59:32.723364Z",
     "start_time": "2025-04-27T19:59:32.721263Z"
    }
   },
   "cell_type": "code",
   "source": [
    "\n",
    "\n",
    "\n"
   ],
   "id": "a583a68580938af",
   "outputs": [],
   "execution_count": 8
  },
  {
   "metadata": {},
   "cell_type": "code",
   "outputs": [],
   "execution_count": null,
   "source": "",
   "id": "a809061436b3d4ff"
  }
 ],
 "metadata": {
  "kernelspec": {
   "display_name": "Python 3",
   "language": "python",
   "name": "python3"
  },
  "language_info": {
   "codemirror_mode": {
    "name": "ipython",
    "version": 2
   },
   "file_extension": ".py",
   "mimetype": "text/x-python",
   "name": "python",
   "nbconvert_exporter": "python",
   "pygments_lexer": "ipython2",
   "version": "2.7.6"
  }
 },
 "nbformat": 4,
 "nbformat_minor": 5
}
